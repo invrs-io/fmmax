{
 "cells": [
  {
   "cell_type": "markdown",
   "metadata": {},
   "source": [
    "# Metal, Dipole, and PML\n",
    "\n",
    "This tutorial is derived from this [script](https://github.com/facebookresearch/fmmax/blob/main/examples/metal_dipole.py).\n",
    "\n",
    "This tutorial demonstrates how to simulate a dipole above a metal plane, surrounded by absorbing layers, using the `fmmax` library. The presence of the metal plane modifies the radiated power from the dipole, leading to angular dependence in the emission pattern. A cross section of the simulation is depicted below.\n",
    "\n",
    "    _____________________________\n",
    "    |xxx|                   |xxx|\n",
    "    |xxx|                   |xxx|   x: ambient, pml\n",
    "    |xxx|                   |xxx|   y: metal, pml\n",
    "    |xxx|        o <-dipole |xxx|   z: metal, no pml\n",
    "    |xxx|___________________|xxx|\n",
    "    |yyy|zzzzzzzzzzzzzzzzzzz|yyy|\n",
    "\n",
    "## Setting up the simulation\n",
    "\n",
    "First, let's establish the following simulation parameters\n",
    "(all lengths are in *microns* ($\\mu\\mathrm{m}$)):"
   ]
  },
  {
   "cell_type": "code",
   "execution_count": 1,
   "metadata": {},
   "outputs": [],
   "source": [
    "from fmmax import pml\n",
    "\n",
    "#The permittivity of the ambient.\n",
    "permittivity_ambient = (1.0 + 0.0j)\n",
    "#The permittivity of the metal.\n",
    "permittivity_metal = (-7.632 + 0.731j)\n",
    "#The distance between the dipole and the metal.\n",
    "thickness_dipole_metal_gap = 1.0\n",
    "#The thickness of the ambient above the dipole.\n",
    "thickness_ambient = 2.0\n",
    "#The thickness of the metal layer.\n",
    "thickness_metal = 0.1\n",
    "#The x- and y-extent of the unit cell.\n",
    "pitch = 5.0\n",
    "#The shape of the grid used to represent permittivities and permeabilities.\n",
    "grid_shape = (400, 400)\n",
    "#The spacing of grid points for calculated fields.\n",
    "grid_spacing_fields = 0.01\n",
    "#The wavelength of dipole emission.\n",
    "wavelength = 0.63\n",
    "#The approximate number of terms used in the plane wave expansion of the fields.\n",
    "approximate_num_terms = 1200\n",
    "#Parameters specifying the extent and strength of the perfectly matched layers.\n",
    "pml_params = pml.PMLParams(num_x=50, num_y=50)"
   ]
  },
  {
   "cell_type": "markdown",
   "metadata": {},
   "source": [
    "Now, we can generate the basis expansion. We also define a standard periodic boundary conditions with no extra Bloch phase."
   ]
  },
  {
   "cell_type": "code",
   "execution_count": 2,
   "metadata": {},
   "outputs": [],
   "source": [
    "from jax import numpy as jnp\n",
    "from fmmax import basis\n",
    "\n",
    "primitive_lattice_vectors = basis.LatticeVectors(\n",
    "    u=pitch * basis.X, v=pitch * basis.Y\n",
    ")\n",
    "expansion = basis.generate_expansion(\n",
    "    primitive_lattice_vectors=primitive_lattice_vectors,\n",
    "    approximate_num_terms=approximate_num_terms,\n",
    "    truncation=basis.Truncation.CIRCULAR,\n",
    ")\n",
    "in_plane_wavevector = jnp.zeros((2,))"
   ]
  },
  {
   "cell_type": "markdown",
   "metadata": {},
   "source": [
    "We're now going to generate an anisotropic permittivity and permeability, which are the outcomes of applying a uniaxial Perfectly Matched Layer (PML) to the x- and y-boundaries. The Fourier Modal Method (FMM), being a semi-analytic method, is capable of perfectly matching the infinite boundaries in the z-direction. Also note that the design of the PML is based on the assumption of a unit cell, where the primitive lattice vectors are perfectly aligned with the x- and y-directions.\n",
    "\n",
    "The following code generates these properties for both the ambient and metal mediums, using the `apply_uniaxial_pml()` function:"
   ]
  },
  {
   "cell_type": "code",
   "execution_count": 3,
   "metadata": {},
   "outputs": [],
   "source": [
    "permittivities_ambient_pml, permeabilities_ambient_pml = pml.apply_uniaxial_pml(\n",
    "    permittivity=jnp.full(grid_shape, permittivity_ambient),\n",
    "    pml_params=pml_params,\n",
    ")\n",
    "permittivities_metal_pml, permeabilities_metal_pml = pml.apply_uniaxial_pml(\n",
    "    permittivity=jnp.full(grid_shape, permittivity_metal),\n",
    "    pml_params=pml_params,\n",
    ")"
   ]
  },
  {
   "cell_type": "markdown",
   "metadata": {},
   "source": [
    "## Compute Eigenmodes for each layer\n",
    "FMMAX needs to solve for all the eigenmodes of each layer. Since the permittivies and permeabilities we just obtained are anisotropic, we must use the `fmm.eigensolve_general_anisotropic_media()` function to obtain the eigenmodes.\n",
    "\n",
    "The following snippet of code uses the `functools.partial()` function from Python's standard library to create a new function eigensolve that behaves like the `fmm.eigensolve_general_anisotropic_media()` function but with some of its arguments already filled in. This is to create a new function with a specific context or configuration. Another advantage of using `functools.partial()` over lambda expressions or anonymous functions is that it provides better introspection capabilities, which can be particularly useful for debugging and tracing purposes within the context of JAX."
   ]
  },
  {
   "cell_type": "code",
   "execution_count": 4,
   "metadata": {},
   "outputs": [],
   "source": [
    "from fmmax import fmm\n",
    "import functools\n",
    "\n",
    "eigensolve = functools.partial(\n",
    "    fmm.eigensolve_general_anisotropic_media,\n",
    "    wavelength=jnp.asarray(wavelength),\n",
    "    in_plane_wavevector=in_plane_wavevector,\n",
    "    primitive_lattice_vectors=primitive_lattice_vectors,\n",
    "    expansion=expansion,\n",
    "    formulation=fmm.Formulation.FFT,\n",
    "    vector_field_source=None,  # Automatically choose the vector field source.\n",
    ")"
   ]
  },
  {
   "cell_type": "markdown",
   "metadata": {},
   "source": [
    "Now that we have the information pre-filled in, we can start using this newly defined function `eigensolve()` by passing in the permittivity and permeability information. We will keep track of the solve results separately for the eigenmodes above (`solve_result_ambient`) and below (`solve_result_method`) the source."
   ]
  },
  {
   "cell_type": "code",
   "execution_count": 5,
   "metadata": {},
   "outputs": [],
   "source": [
    "solve_result_ambient = eigensolve(\n",
    "    permittivity_xx=permittivities_ambient_pml[0],\n",
    "    permittivity_xy=permittivities_ambient_pml[1],\n",
    "    permittivity_yx=permittivities_ambient_pml[2],\n",
    "    permittivity_yy=permittivities_ambient_pml[3],\n",
    "    permittivity_zz=permittivities_ambient_pml[4],\n",
    "    permeability_xx=permeabilities_ambient_pml[0],\n",
    "    permeability_xy=permeabilities_ambient_pml[1],\n",
    "    permeability_yx=permeabilities_ambient_pml[2],\n",
    "    permeability_yy=permeabilities_ambient_pml[3],\n",
    "    permeability_zz=permeabilities_ambient_pml[4],\n",
    ")\n",
    "solve_result_metal = eigensolve(\n",
    "    permittivity_xx=permittivities_metal_pml[0],\n",
    "    permittivity_xy=permittivities_metal_pml[1],\n",
    "    permittivity_yx=permittivities_metal_pml[2],\n",
    "    permittivity_yy=permittivities_metal_pml[3],\n",
    "    permittivity_zz=permittivities_metal_pml[4],\n",
    "    permeability_xx=permeabilities_metal_pml[0],\n",
    "    permeability_xy=permeabilities_metal_pml[1],\n",
    "    permeability_yx=permeabilities_metal_pml[2],\n",
    "    permeability_yy=permeabilities_metal_pml[3],\n",
    "    permeability_zz=permeabilities_metal_pml[4],\n",
    ")"
   ]
  },
  {
   "cell_type": "markdown",
   "metadata": {},
   "source": [
    "## Calculate the scattering matrices for each substack\n",
    "\n",
    "We are now prepared to compute the scattering matrices (s-matrices). These matrices define the relationship between the forward- and backward-propagating eigenmodes within each layer. The FMMAX library offers a variety of routines for this purpose, each with varying degrees of abstraction.\n",
    "\n",
    "In this specific context, our objective is to independently compute the s-matrices for two distinct portions (substacks): the upper (ambient) and the lower (from the dipole to the metal gap, and the metal itself). Instead of merging the layers at this point, we strategically place our dipole source between these two portions. This method allows us to associate the dipole source with the corresponding s-matrices of each portion.\n",
    "\n",
    "The following code illustrates this procedure:"
   ]
  },
  {
   "cell_type": "code",
   "execution_count": 6,
   "metadata": {},
   "outputs": [],
   "source": [
    "from fmmax import scattering\n",
    "\n",
    "# Compute interior scattering matrices to enable field calculations.\n",
    "s_matrices_interior_before_source = scattering.stack_s_matrices_interior(\n",
    "    layer_solve_results=[solve_result_ambient],\n",
    "    layer_thicknesses=[jnp.asarray(thickness_ambient)],\n",
    ")\n",
    "s_matrices_interior_after_source = scattering.stack_s_matrices_interior(\n",
    "    layer_solve_results=[solve_result_ambient, solve_result_metal],\n",
    "    layer_thicknesses=[\n",
    "        jnp.asarray(thickness_dipole_metal_gap),\n",
    "        jnp.asarray(thickness_metal),\n",
    "    ],\n",
    ")"
   ]
  },
  {
   "cell_type": "markdown",
   "metadata": {},
   "source": [
    "## Create a dipole source\n",
    "\n",
    "We are now ready to create our dipole source, which is periodically located at the center of our unit cell. First, we use the `sources.dirac_delta_source()` to expand the dipole into superpositions of planewaves. Then, we want the source to propagate in both directions, upwards and downwards as an 'embedded source'."
   ]
  },
  {
   "cell_type": "code",
   "execution_count": 7,
   "metadata": {},
   "outputs": [],
   "source": [
    "from fmmax import sources\n",
    "\n",
    "# Generate the Fourier representation of a point dipole.\n",
    "dipole = sources.dirac_delta_source(\n",
    "    location=jnp.asarray([[pitch / 2, pitch / 2]]),\n",
    "    in_plane_wavevector=in_plane_wavevector,\n",
    "    primitive_lattice_vectors=primitive_lattice_vectors,\n",
    "    expansion=expansion,\n",
    ")"
   ]
  },
  {
   "cell_type": "markdown",
   "metadata": {},
   "source": [
    "Before we can calculate the amplitudes of the dipole source, we must obtain the s-matrices relating fields at the two ends of each substack. We obtained this information earlier using the function `scattering.stack_s_matrices_interior()`. This function returns a `Tuple` of s-matrix substacks where each substack is a `Tuple` of individual s-matrix corresponding to the different layers."
   ]
  },
  {
   "cell_type": "code",
   "execution_count": 8,
   "metadata": {},
   "outputs": [],
   "source": [
    "s_matrix_before_source = s_matrices_interior_before_source[0][0]\n",
    "s_matrix_after_source = s_matrices_interior_after_source[-1][0]"
   ]
  },
  {
   "cell_type": "markdown",
   "metadata": {},
   "source": [
    "We have now all the information needed to propagate the dipole source into the top and bottom substacks. The `sources.amplitudes_for_source()` function will properly convert the dipole electric current sources to the corresponding Fourier field amplitudes and propagate them along both directions (top and bottom in this context)."
   ]
  },
  {
   "cell_type": "code",
   "execution_count": 9,
   "metadata": {},
   "outputs": [],
   "source": [
    "# Compute backward eigenmode amplitudes at the end of the layer before the\n",
    "# source, and the forward amplitudes the start of the layer after the source.\n",
    "(\n",
    "    _,\n",
    "    _,\n",
    "    bwd_amplitude_before_end,\n",
    "    fwd_amplitude_after_start,\n",
    "    _,\n",
    "    _,\n",
    ") = sources.amplitudes_for_source(\n",
    "    jx=jnp.zeros_like(dipole),\n",
    "    jy=dipole, # Only excite the y polarization.\n",
    "    jz=jnp.zeros_like(dipole),\n",
    "    s_matrix_before_source=s_matrix_before_source,\n",
    "    s_matrix_after_source=s_matrix_after_source,\n",
    ")"
   ]
  },
  {
   "cell_type": "markdown",
   "metadata": {},
   "source": [
    "With the forward and backward propagating Fourier field amplitudes calculated, we can use these amplitudes to excite the eigenmodes we previously calculated given the scattering matrices before (`s_matrix_before_source`) and after ( `s_matrix_after_source`) the source. The function we use here is called `fields.stack_amplitudes_interior_with_source()`, which returns the forward- and backward-propagating wave amplitude for each layer."
   ]
  },
  {
   "cell_type": "code",
   "execution_count": 10,
   "metadata": {},
   "outputs": [],
   "source": [
    "from fmmax import fields\n",
    "\n",
    "# Solve for the eigenmode amplitudes in every layer of the stack.\n",
    "amplitudes_interior = fields.stack_amplitudes_interior_with_source(\n",
    "    s_matrices_interior_before_source=s_matrices_interior_before_source,\n",
    "    s_matrices_interior_after_source=s_matrices_interior_after_source,\n",
    "    backward_amplitude_before_end=bwd_amplitude_before_end,\n",
    "    forward_amplitude_after_start=fwd_amplitude_after_start,\n",
    ")"
   ]
  },
  {
   "cell_type": "markdown",
   "metadata": {},
   "source": [
    "# Visualization\n",
    "\n",
    "Thus far, we have obtained the s-matrices and the propagating wave amplitudes for each layer. We can use a function called `fields.stack_fields_3d_on_coordinates()` to convert that into a cartesian 3d vector field to visualize. We can take a 2d cross section by specifying the x coordinates to span across the entire period, while keeping the y coordinates constant."
   ]
  },
  {
   "cell_type": "code",
   "execution_count": 11,
   "metadata": {},
   "outputs": [],
   "source": [
    "# Coordinates where fields are to be evaluated.\n",
    "x = jnp.linspace(0, pitch, grid_shape[0])\n",
    "y = jnp.ones_like(x) * pitch / 2\n",
    "(ex, ey, ez), (hx, hy, hz), (x, y, z) = fields.stack_fields_3d_on_coordinates(\n",
    "    amplitudes_interior=amplitudes_interior,\n",
    "    layer_solve_results=[\n",
    "        solve_result_ambient,\n",
    "        solve_result_ambient,\n",
    "        solve_result_metal,\n",
    "    ],\n",
    "    layer_thicknesses=[\n",
    "        jnp.asarray(thickness_ambient),\n",
    "        jnp.asarray(thickness_dipole_metal_gap),\n",
    "        jnp.asarray(thickness_metal),\n",
    "    ],\n",
    "    layer_znum=[\n",
    "        int(thickness_ambient / grid_spacing_fields),\n",
    "        int(thickness_dipole_metal_gap / grid_spacing_fields),\n",
    "        int(thickness_metal / grid_spacing_fields),\n",
    "    ],\n",
    "    x=x,\n",
    "    y=y,\n",
    ")"
   ]
  },
  {
   "cell_type": "markdown",
   "metadata": {},
   "source": [
    "Let's visualize the amplitude of the electric field now!"
   ]
  },
  {
   "cell_type": "code",
   "execution_count": 12,
   "metadata": {},
   "outputs": [
    {
     "data": {
      "image/png": "[encoded data removed]",
      "text/plain": [
       "<Figure size 400x248 with 1 Axes>"
      ]
     },
     "metadata": {},
     "output_type": "display_data"
    }
   ],
   "source": [
    "import matplotlib.pyplot as plt\n",
    "\n",
    "field_3d = jnp.sqrt(jnp.abs(ex) ** 2 + jnp.abs(ey) ** 2 + jnp.abs(ez) ** 2)\n",
    "field_plot = field_3d[:, :, 1]\n",
    "\n",
    "xplot, zplot = jnp.meshgrid(x, z, indexing=\"ij\")\n",
    "\n",
    "plt.figure(figsize=(float(jnp.amax(xplot)), float(jnp.amax(zplot))), dpi=80)\n",
    "ax = plt.subplot(111)\n",
    "im = ax.pcolormesh(xplot, zplot, field_plot, shading=\"nearest\", cmap=\"magma\")\n",
    "\n",
    "# Clip the color scale to the 99.8th percentile of the field.\n",
    "clip_percentile = 99.8\n",
    "clipval = float(jnp.percentile(field_plot, clip_percentile))\n",
    "im.set_clim((0, clipval))\n",
    "\n",
    "ax.axis(\"equal\")\n",
    "ax.axis(\"off\")\n",
    "ax.set_ylim(ax.get_ylim()[::-1])\n",
    "\n",
    "plt.subplots_adjust(left=0, bottom=0, right=1, top=1)\n",
    "plt.show()"
   ]
  },
  {
   "cell_type": "markdown",
   "metadata": {},
   "source": [
    "As you can see, the plot above shows a clear view of the PML on the sides, as it the attenuates the dipole amplitudes with minimal back reflections. The metal plane is also visible beneath the dipole. It's worth noting that the dipole is has a finite width, and thus utilizing more Fourier terms can improve the resolution of an actual \"delta function\" point source (as demonstrated in the [previous tutorial](https://facebookresearch.github.io/fmmax/Tutorials/dipoles))."
   ]
  }
 ],
 "metadata": {
  "kernelspec": {
   "display_name": "Python 3",
   "language": "python",
   "name": "python3"
  },
  "language_info": {
   "codemirror_mode": {
    "name": "ipython",
    "version": 3
   },
   "file_extension": ".py",
   "mimetype": "text/x-python",
   "name": "python",
   "nbconvert_exporter": "python",
   "pygments_lexer": "ipython3",
   "version": "3.12.1"
  }
 },
 "nbformat": 4,
 "nbformat_minor": 2
}
