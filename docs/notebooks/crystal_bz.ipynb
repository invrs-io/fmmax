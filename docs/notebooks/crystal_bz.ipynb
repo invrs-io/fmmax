{
 "cells": [
  {
   "cell_type": "markdown",
   "metadata": {},
   "source": [
    "# Brillouin Zone Integration on a Photonic Crystal\n",
    "\n",
    "This tutorial is derived from this [script](https://github.com/facebookresearch/fmmax/blob/main/examples/crystal.py).\n",
    "\n",
    "The traditional FMM or RCWA solvers have a significant limitation: they require both the structures and sources to be periodic. Simulating an aperiodic source necessitates the use of a supercell, which can be computationally demanding due to the unfavorable complexity scaling.\n",
    "FMMAX, however, offers a solution to this issue by employing Brillouin Zone (BZ) integration. This method has a distinct advantage: it allows a supercell to be transformed into several smaller primitive unit cells, which can then be simulated independently in batch. This approach significantly reduces computational demands, making it a more efficient solution for handling aperiodic sources.\n",
    "\n",
    "In this tutorial, we will explore two scenarios using BZ integration:\n",
    "\n",
    "(1) A dipole source inside a photonic crystal slab. \n",
    "\n",
    "    The crystal has a square unit cell with circular holes, having cross section\n",
    "    and dipole position as illustrated below. The dipole is located the lower-left\n",
    "    corner of the unit cell centered in the supercell defined by the Brillouin grid\n",
    "    shape. The dipole is x-oriented and centered vertically within the photonic\n",
    "    crystal slab.\n",
    "                     ________________\n",
    "                    |                |\n",
    "                    |XX            XX|\n",
    "                    |XXXX        XXXX|\n",
    "                    |XXXX        XXXX|\n",
    "                    |XX            XX|\n",
    "        x-dipole -> o________________|\n",
    "\n",
    "(2) A \"broadband\" (with 3 wavelengths) Gaussian beam incident on a photonic crystal slab.\n",
    "\n",
    "    The crystal has a square unit cell with circular holes as illustrated below.\n",
    "                     ________________\n",
    "                    |                |\n",
    "                    |XX            XX|\n",
    "                    |XXXX        XXXX|\n",
    "                    |XXXX        XXXX|\n",
    "                    |XX            XX|\n",
    "                    |________________|\n",
    "\n",
    "\n",
    "First, let's define some general design parameters applicable for both scenarios."
   ]
  },
  {
   "cell_type": "code",
   "execution_count": null,
   "metadata": {},
   "outputs": [],
   "source": [
    "# Permittivity of the region above and below the slab, and of the holes in the slab.\n",
    "permittivity_ambient = (1.0 + 0.0j) ** 2\n",
    "# Permittivity of the slab.\n",
    "permittivity_slab = (1.5 + 0.0j) ** 2\n",
    "# Thickness of the ambient layers above and below the slab.\n",
    "thickness_ambient = 2.0\n",
    "# Thickness of the photonic crystal slab.\n",
    "thickness_slab = 0.8\n",
    "# The unit cell pitch.\n",
    "pitch = 1.0\n",
    "# The diameter of the holes in the photonic crystal.\n",
    "diameter = 0.7\n",
    "# The size of a pixel in permittivity arrays.\n",
    "resolution = 0.01\n",
    "# The size of a pixel in field arrays.\n",
    "resolution_fields = 0.01\n",
    "# The wavelength of the dipole emission.\n",
    "wavelength = 0.63\n",
    "# The number of terms in the Fourier expansion.\n",
    "approximate_num_terms = 50\n",
    "# The shape of the grid used for Brillouin zone integration.\n",
    "brillouin_grid_shape = (9, 9)"
   ]
  },
  {
   "cell_type": "markdown",
   "metadata": {},
   "source": [
    "# Scenario 1: Aperiodic dipole source inside a photonic crystal slab.\n",
    "\n",
    "## Setting up the simulation\n",
    "\n",
    "First, we calculate the basis expansion with circular truncation. "
   ]
  },
  {
   "cell_type": "code",
   "execution_count": null,
   "metadata": {},
   "outputs": [],
   "source": [
    "from jax import numpy as jnp\n",
    "import fmmax\n",
    "\n",
    "primitive_lattice_vectors = fmmax.LatticeVectors(\n",
    "    u=pitch * fmmax.X, v=pitch * fmmax.Y\n",
    ")\n",
    "expansion = fmmax.generate_expansion(\n",
    "    primitive_lattice_vectors=primitive_lattice_vectors,\n",
    "    approximate_num_terms=approximate_num_terms,\n",
    ")"
   ]
  },
  {
   "cell_type": "markdown",
   "metadata": {},
   "source": [
    "In our simulation of aperiodic dipole sources, it's crucial to define the Bloch phase. This phase establishes a relationship between the two sides of the primitive unit cell. For this purpose, we can conveniently utilize the `fmmax.brillouin_zone_in_plane_wavevector()` function. This function generates the Bloch phase (referred to as `in_plane_wavevector`) based on the shape of the Brillouin zone grid (M x N) and the lattice vectors of the primitive unit cell. This function returns M x N wavevectors."
   ]
  },
  {
   "cell_type": "code",
   "execution_count": null,
   "metadata": {},
   "outputs": [],
   "source": [
    "# Brillouin zone integration creates a batch of in-plane wavevectors which are\n",
    "# distributed throughout the first Brillouin zone.\n",
    "in_plane_wavevector = fmmax.brillouin_zone_in_plane_wavevector(\n",
    "    brillouin_grid_shape, primitive_lattice_vectors\n",
    ")\n",
    "# check the shape of in_plane_wavevector, should be (M, N, 2)\n",
    "print(in_plane_wavevector.shape)"
   ]
  },
  {
   "cell_type": "markdown",
   "metadata": {},
   "source": [
    "Since we will be using the same parameters to solve for eigenmodes inside our Brillouin Zone, we can once again compose a partial function for the ease of reuse."
   ]
  },
  {
   "cell_type": "code",
   "execution_count": null,
   "metadata": {},
   "outputs": [],
   "source": [
    "import functools\n",
    "\n",
    "eigensolve = functools.partial(\n",
    "    fmmax.eigensolve_isotropic_media,\n",
    "    wavelength=jnp.asarray(wavelength),\n",
    "    in_plane_wavevector=in_plane_wavevector,\n",
    "    primitive_lattice_vectors=primitive_lattice_vectors,\n",
    "    expansion=expansion,\n",
    ")"
   ]
  },
  {
   "cell_type": "markdown",
   "metadata": {},
   "source": [
    "Here, we construct a function called `unit_cell_pattern()` that generates the permittivity distribution in the xy directions. Let's also visualize it."
   ]
  },
  {
   "cell_type": "code",
   "execution_count": null,
   "metadata": {},
   "outputs": [],
   "source": [
    "import jax.numpy as jnp\n",
    "import matplotlib.pyplot as plt  # type: ignore[import]\n",
    "\n",
    "def unit_cell_pattern(\n",
    "    pitch: float,\n",
    "    diameter: float,\n",
    "    resolution: float,\n",
    ") -> jnp.ndarray:\n",
    "    \"\"\"Defines the pattern of the photonic crystal.\"\"\"\n",
    "    x, y = jnp.meshgrid(\n",
    "        jnp.arange(0, pitch, resolution),\n",
    "        jnp.arange(0, pitch, resolution),\n",
    "        indexing=\"ij\",\n",
    "    )\n",
    "    return (jnp.sqrt((x - pitch / 2) ** 2 + y**2) < diameter / 2) | (\n",
    "        jnp.sqrt((x - pitch / 2) ** 2 + (y - pitch) ** 2) < diameter / 2\n",
    "    )\n",
    "\n",
    "# Try plotting a unit cell.\n",
    "mask = unit_cell_pattern(pitch, diameter, resolution)\n",
    "\n",
    "plt.imshow(mask)\n",
    "plt.show()"
   ]
  },
  {
   "cell_type": "markdown",
   "metadata": {},
   "source": [
    "Now, we can solve for the eigemodes in the crystal as well as the ambient regions."
   ]
  },
  {
   "cell_type": "code",
   "execution_count": null,
   "metadata": {},
   "outputs": [],
   "source": [
    "permittivity_crystal = jnp.where(mask, permittivity_ambient, permittivity_slab)\n",
    "solve_result_crystal = eigensolve(permittivity=permittivity_crystal)\n",
    "solve_result_ambient = eigensolve(\n",
    "    permittivity=jnp.asarray(permittivity_ambient)[jnp.newaxis, jnp.newaxis]\n",
    ")"
   ]
  },
  {
   "cell_type": "markdown",
   "metadata": {},
   "source": [
    "To model a dipole inside the photonic crystal we must break the stack into two, and compute scattering matrices for the stacks above and below the plane containing the dipole. Since we want to visualize fields, we also need the interior scattering matrices."
   ]
  },
  {
   "cell_type": "code",
   "execution_count": null,
   "metadata": {},
   "outputs": [],
   "source": [
    "# Convert the thicknesses values to jax arrays.\n",
    "thickness_ambient = jnp.asarray(thickness_ambient)\n",
    "thickness_slab = jnp.asarray(thickness_slab)\n",
    "\n",
    "s_matrices_interior_before_source = fmmax.stack_s_matrices_interior(\n",
    "    layer_solve_results=[solve_result_ambient, solve_result_crystal],\n",
    "    layer_thicknesses=[thickness_ambient, thickness_slab / 2],\n",
    ")\n",
    "s_matrices_interior_after_source = fmmax.stack_s_matrices_interior(\n",
    "    layer_solve_results=[solve_result_crystal, solve_result_ambient],\n",
    "    layer_thicknesses=[thickness_slab / 2, thickness_ambient],\n",
    ")\n",
    "\n",
    "# Extract the scattering matrices relating fields at the two ends of each substack.\n",
    "s_matrix_before_source = s_matrices_interior_before_source[-1][0]\n",
    "s_matrix_after_source = s_matrices_interior_after_source[-1][0]"
   ]
  },
  {
   "cell_type": "markdown",
   "metadata": {},
   "source": [
    "Now let's generate the dipole source using the `source.dirac_delta_source()` and place it in the middle of the 9 x 9 grid.\n",
    "Note that since we are using BZ zone grid, each primitive cell needs its own source expansion. So the result Fourier coefficients of the point dipole is a batched tensor in the shape of M x N x B x 1, where B is the total number of Fourier orders."
   ]
  },
  {
   "cell_type": "code",
   "execution_count": null,
   "metadata": {},
   "outputs": [],
   "source": [
    "# Generate the Fourier representation of a point dipole.\n",
    "dipole_x = pitch * brillouin_grid_shape[0] // 2\n",
    "dipole_y = pitch * brillouin_grid_shape[1] // 2\n",
    "dipole = fmmax.dirac_delta_source(\n",
    "    location=jnp.asarray([[dipole_x, dipole_y]]),\n",
    "    in_plane_wavevector=in_plane_wavevector,\n",
    "    primitive_lattice_vectors=primitive_lattice_vectors,\n",
    "    expansion=expansion,\n",
    ")\n",
    "print(dipole.shape)"
   ]
  },
  {
   "cell_type": "markdown",
   "metadata": {},
   "source": [
    "With the Fourier coefficients calculated for our dipole source, we can inject it into our structure given the adjacent S-matrices, and calculate the forward and backward amplitudes."
   ]
  },
  {
   "cell_type": "code",
   "execution_count": null,
   "metadata": {},
   "outputs": [],
   "source": [
    "# Compute backward eigenmode amplitudes at the end of the layer before the\n",
    "# source, and the forward amplitudes the start of the layer after the source.\n",
    "(\n",
    "    _,\n",
    "    _,\n",
    "    bwd_amplitude_before_end,\n",
    "    fwd_amplitude_after_start,\n",
    "    _,\n",
    "    _,\n",
    ") = fmmax.amplitudes_for_source(\n",
    "    jx=dipole,\n",
    "    jy=jnp.zeros_like(dipole),\n",
    "    jz=jnp.zeros_like(dipole),\n",
    "    s_matrix_before_source=s_matrix_before_source,\n",
    "    s_matrix_after_source=s_matrix_after_source,\n",
    ")"
   ]
  },
  {
   "cell_type": "markdown",
   "metadata": {},
   "source": [
    "Then, we can plug the amplitudes into the interior S-matrices to calculate the interior amplitudes. Note that, again, the Fourier coefficients for each layer and direction is batched."
   ]
  },
  {
   "cell_type": "code",
   "execution_count": null,
   "metadata": {},
   "outputs": [],
   "source": [
    "from fmmax import fields\n",
    "\n",
    "# Compute the fields inside the structure.\n",
    "amplitudes_interior = fmmax.stack_amplitudes_interior_with_source(\n",
    "    s_matrices_interior_before_source=s_matrices_interior_before_source,\n",
    "    s_matrices_interior_after_source=s_matrices_interior_after_source,\n",
    "    backward_amplitude_before_end=bwd_amplitude_before_end,\n",
    "    forward_amplitude_after_start=fwd_amplitude_after_start,\n",
    ")\n",
    "print(amplitudes_interior[0][0].shape)"
   ]
  },
  {
   "cell_type": "markdown",
   "metadata": {},
   "source": [
    "## Brillouin Zone Integration and Visualization \n",
    "\n",
    "Now that we have computed the Fourier amplitudes of the interior fields, we shall convert them into Cartesian coordinates for visualization. "
   ]
  },
  {
   "cell_type": "code",
   "execution_count": null,
   "metadata": {},
   "outputs": [],
   "source": [
    "# Coordinates where fields are to be evaluated.\n",
    "x = jnp.arange(0, pitch * brillouin_grid_shape[0], resolution_fields)\n",
    "y = jnp.ones_like(x) * pitch * brillouin_grid_shape[1] // 2\n",
    "(ex, ey, ez), (hx, hy, hz), (x, y, z) = fmmax.stack_fields_3d_on_coordinates(\n",
    "    amplitudes_interior=amplitudes_interior,\n",
    "    layer_solve_results=[\n",
    "        solve_result_ambient,\n",
    "        solve_result_crystal,\n",
    "        solve_result_crystal,\n",
    "        solve_result_ambient,\n",
    "    ],\n",
    "    layer_thicknesses=[\n",
    "        thickness_ambient,\n",
    "        thickness_slab / 2,\n",
    "        thickness_slab / 2,\n",
    "        thickness_ambient,\n",
    "    ],\n",
    "    layer_znum=[\n",
    "        int(thickness_ambient / resolution_fields),\n",
    "        int(thickness_slab / resolution_fields / 2),\n",
    "        int(thickness_slab / resolution_fields / 2),\n",
    "        int(thickness_ambient / resolution_fields),\n",
    "    ],\n",
    "    x=x,\n",
    "    y=y,\n",
    ")"
   ]
  },
  {
   "cell_type": "markdown",
   "metadata": {},
   "source": [
    "Now, we can perform the Brillouin zone integration by averaging over the Brillouin zone grid batch axes."
   ]
  },
  {
   "cell_type": "code",
   "execution_count": null,
   "metadata": {},
   "outputs": [],
   "source": [
    "ex, ey, ez, hx, hy, hz = [\n",
    "    jnp.mean(field, axis=(0, 1)) for field in (ex, ey, ez, hx, hy, hz)\n",
    "]"
   ]
  },
  {
   "cell_type": "markdown",
   "metadata": {},
   "source": [
    "The following function generates the cross section of the photonic crystal permittivity so we can plot it later."
   ]
  },
  {
   "cell_type": "code",
   "execution_count": null,
   "metadata": {},
   "outputs": [],
   "source": [
    "from typing import Tuple\n",
    "\n",
    "def crystal_cross_sections(\n",
    "    thickness_ambient: float,\n",
    "    thickness_slab: float,\n",
    "    pitch: float,\n",
    "    diameter: float,\n",
    "    resolution: float,\n",
    "    num_unit_cells: Tuple[int, int],\n",
    ") -> Tuple[jnp.ndarray, jnp.ndarray, jnp.ndarray]:\n",
    "    \"\"\"Computes cross sections of the photonic crystal structure.\"\"\"\n",
    "    mask = unit_cell_pattern(pitch, diameter, resolution)\n",
    "\n",
    "    xy_section = jnp.tile(mask, num_unit_cells)\n",
    "\n",
    "    xz_slab = mask[:, 0]\n",
    "    xz_section = jnp.stack(\n",
    "        (\n",
    "            [jnp.ones_like(xz_slab)] * int(thickness_ambient / resolution)\n",
    "            + [xz_slab] * int(thickness_slab / resolution)\n",
    "            + [jnp.ones_like(xz_slab)] * int(thickness_ambient / resolution)\n",
    "        ),\n",
    "        axis=-1,\n",
    "    )\n",
    "    xz_section = jnp.tile(xz_section, (num_unit_cells[0], 1))\n",
    "\n",
    "    yz_slab = mask[0, :]\n",
    "    yz_section = jnp.stack(\n",
    "        (\n",
    "            [jnp.ones_like(yz_slab)] * int(thickness_ambient / resolution)\n",
    "            + [yz_slab] * int(thickness_slab / resolution)\n",
    "            + [jnp.ones_like(yz_slab)] * int(thickness_ambient / resolution)\n",
    "        ),\n",
    "        axis=-1,\n",
    "    )\n",
    "    yz_section = jnp.tile(yz_section, (num_unit_cells[1], 1))\n",
    "\n",
    "    return xy_section, xz_section, yz_section\n"
   ]
  },
  {
   "cell_type": "markdown",
   "metadata": {},
   "source": [
    "Finally, let's plot the field amplitude along with the contour of the photonic crystal permittivity."
   ]
  },
  {
   "cell_type": "code",
   "execution_count": null,
   "metadata": {},
   "outputs": [],
   "source": [
    "from skimage import measure\n",
    "import numpy as onp\n",
    "\n",
    "section_xy, section_xz, section_yz = crystal_cross_sections(\n",
    "    thickness_ambient=float(thickness_ambient),\n",
    "    thickness_slab=float(thickness_slab),\n",
    "    pitch=pitch,\n",
    "    diameter=diameter,\n",
    "    resolution=resolution,\n",
    "    num_unit_cells=brillouin_grid_shape,\n",
    ")\n",
    "\n",
    "xplot, zplot = jnp.meshgrid(x, z, indexing=\"ij\")\n",
    "field_plot = ex[:, :, 0].real\n",
    "\n",
    "plt.figure(figsize=(float(jnp.amax(xplot)), float(jnp.amax(zplot))), dpi=80)\n",
    "ax = plt.subplot(111)\n",
    "im = plt.pcolormesh(xplot, zplot, field_plot, shading=\"nearest\", cmap=\"bwr\")\n",
    "\n",
    "im.set_clim((-float(jnp.amax(field_plot)), float(jnp.amax(field_plot))))\n",
    "\n",
    "contours = measure.find_contours(onp.array(section_xz))\n",
    "scale_factor = pitch / resolution\n",
    "for c in contours:\n",
    "    ax.plot(c[:, 0] / scale_factor, c[:, 1] / scale_factor, \"k\")\n",
    "\n",
    "ax.axis(\"equal\")\n",
    "ax.axis(\"off\")\n",
    "ax.set_ylim(ax.get_ylim()[::-1])\n",
    "\n",
    "plt.subplots_adjust(left=0, bottom=0, right=1, top=1)"
   ]
  },
  {
   "cell_type": "markdown",
   "metadata": {},
   "source": [
    "The plot above clearly shows an isolated aperiodic dipole source interacting in a periodic photonic crystal slab. This is a unique feature of the FMMAX which brings more flexibility in simulating embedded sources. Next, we will demonstrate an aperiodic gaussian beam source interacting with the photonic crystal."
   ]
  },
  {
   "cell_type": "markdown",
   "metadata": {},
   "source": [
    "# Scenario 2: Gaussian beam incident on photonic crystal slab\n",
    "\n",
    "# Setting up the simulation\n",
    "\n",
    "In this scenario, we use a gaussian beam to excite the same photonic crystal. We also use 3 wavelengths in the simulation to emulate a broadband source.\n",
    "\n",
    "To generalize the Gaussian beam, we parameterize the polar, azimuthal, and polarization angles."
   ]
  },
  {
   "cell_type": "code",
   "execution_count": null,
   "metadata": {},
   "outputs": [],
   "source": [
    "# # The wavelengths, of the gaussian beam\n",
    "# wavelengths = jnp.asarray([0.62, 0.63, 0.64])\n",
    "# # The polar angle of the incident beam.\n",
    "# polar_angle: float = 0.15 * jnp.pi\n",
    "# # The azimuthal angle of the incident beam.\n",
    "# azimuthal_angle: float = 0.0\n",
    "# # The angle giving the polarization rotation about the propagation axis.\n",
    "# polarization_angle: float = 0.0\n",
    "# # The Gaussian beam waist.\n",
    "# beam_waist: float = 1.0\n",
    "# # The offset of the Gaussian beam focus from the top of the photonic crystal slab.\n",
    "# beam_focus_offset: float = 0.0"
   ]
  },
  {
   "cell_type": "markdown",
   "metadata": {},
   "source": [
    "Brillouin zone integration creates a batch of in-plane wavevectors which are distributed throughout the first Brillouin zone. We shift the expansion so that it is centered on the direction of the incident beam. Notice now we have an extra dimension to batch in the different wavelengths."
   ]
  },
  {
   "cell_type": "code",
   "execution_count": null,
   "metadata": {},
   "outputs": [],
   "source": [
    "# in_plane_wavevector = fmmax.brillouin_zone_in_plane_wavevector(\n",
    "#     brillouin_grid_shape, primitive_lattice_vectors\n",
    "# )\n",
    "# wavelengths = jnp.expand_dims(jnp.atleast_1d(wavelengths), axis=(1, 2))\n",
    "# in_plane_wavevector += fmmax.plane_wave_in_plane_wavevector(\n",
    "#     wavelength=jnp.asarray(wavelengths),\n",
    "#     polar_angle=jnp.asarray(polar_angle),\n",
    "#     azimuthal_angle=jnp.asarray(azimuthal_angle),\n",
    "#     permittivity=jnp.asarray(permittivity_ambient),\n",
    "# )\n",
    "\n",
    "# in_plane_wavevector.shape"
   ]
  },
  {
   "cell_type": "markdown",
   "metadata": {},
   "source": [
    "Once again, we compose a partial function with immutable parameters, and solve for the eigenmodes in the photonic crystal and the ambient regions. Then, we compute the interior S-matrices."
   ]
  },
  {
   "cell_type": "code",
   "execution_count": null,
   "metadata": {},
   "outputs": [],
   "source": [
    "# eigensolve = functools.partial(\n",
    "#     fmmax.eigensolve_isotropic_media,\n",
    "#     wavelength=jnp.asarray(wavelengths),\n",
    "#     in_plane_wavevector=in_plane_wavevector,\n",
    "#     primitive_lattice_vectors=primitive_lattice_vectors,\n",
    "#     expansion=expansion,\n",
    "# )\n",
    "\n",
    "# mask = unit_cell_pattern(pitch, diameter, resolution)\n",
    "# permittivity_crystal = jnp.where(mask, permittivity_ambient, permittivity_slab)\n",
    "# solve_result_crystal = eigensolve(permittivity=permittivity_crystal)\n",
    "# solve_result_ambient = eigensolve(\n",
    "#     permittivity=jnp.asarray(permittivity_ambient)[jnp.newaxis, jnp.newaxis]\n",
    "# )\n",
    "\n",
    "# s_matrices_interior = fmmax.stack_s_matrices_interior(\n",
    "#     layer_solve_results=[\n",
    "#         solve_result_ambient,\n",
    "#         solve_result_crystal,\n",
    "#         solve_result_ambient,\n",
    "#     ],\n",
    "#     layer_thicknesses=[thickness_ambient, thickness_slab, thickness_ambient],\n",
    "# )"
   ]
  },
  {
   "cell_type": "markdown",
   "metadata": {},
   "source": [
    "The following snippet is a function that maps the real-space (Cartesian) location to the corresponding EM fields of a Gaussian beam. Note that it has wavelengths batched in."
   ]
  },
  {
   "cell_type": "code",
   "execution_count": null,
   "metadata": {},
   "outputs": [],
   "source": [
    "# def _paraxial_gaussian_field_fn(x, y, z):\n",
    "#     # Returns the fields of a z-propagating, x-polarized Gaussian beam.\n",
    "#     # See https://en.wikipedia.org/wiki/Gaussian_beam\n",
    "\n",
    "#     # Adjust array dimensions for proper batching\n",
    "#     wavelengths_padded = wavelengths[..., jnp.newaxis, jnp.newaxis]\n",
    "\n",
    "#     k = 2 * jnp.pi / wavelengths_padded\n",
    "#     z_r = (\n",
    "#         jnp.pi * beam_waist**2 * jnp.sqrt(permittivity_ambient) / wavelengths_padded\n",
    "#     )\n",
    "#     w_z = beam_waist * jnp.sqrt(1 + (z / z_r) ** 2)\n",
    "#     r = jnp.sqrt(x**2 + y**2)\n",
    "#     ex = (\n",
    "#         beam_waist\n",
    "#         / w_z\n",
    "#         * jnp.exp(-(r**2) / w_z**2)\n",
    "#         * jnp.exp(\n",
    "#             1j\n",
    "#             * (\n",
    "#                 (k * z)  # Phase\n",
    "#                 + k * r**2 / 2 * z / (z**2 + z_r**2)  # Wavefront curvature\n",
    "#                 - jnp.arctan(z / z_r)  # Gouy phase\n",
    "#             )\n",
    "#         )\n",
    "#     )\n",
    "#     ey = jnp.zeros_like(ex)\n",
    "#     ez = jnp.zeros_like(ex)\n",
    "#     hx = jnp.zeros_like(ex)\n",
    "#     hy = ex * jnp.sqrt(permittivity_ambient)\n",
    "#     hz = jnp.zeros_like(ex)\n",
    "#     return (ex, ey, ez), (hx, hy, hz)"
   ]
  },
  {
   "cell_type": "markdown",
   "metadata": {},
   "source": [
    "With the normal incidence parameterized, we can now rotate the Gaussian beam to our desired orientation and polarization state using a convenient function `fmmax.shifted_rotated_fields()`. We do need the real-space coordinates of the supercell which can be obtained using the `fmmax.unit_cell_coordinates()` function. Let's also visualize the rotated field."
   ]
  },
  {
   "cell_type": "code",
   "execution_count": null,
   "metadata": {},
   "outputs": [],
   "source": [
    "# # Solve for the fields of the beam with the desired rotation and shift.\n",
    "# x, y = fmmax.unit_cell_coordinates(\n",
    "#     primitive_lattice_vectors=primitive_lattice_vectors,\n",
    "#     shape=permittivity_crystal.shape[-2:],  # type: ignore[arg-type]\n",
    "#     num_unit_cells=brillouin_grid_shape,\n",
    "# )\n",
    "# (beam_ex, beam_ey, _), (beam_hx, beam_hy, _) = fmmax.shifted_rotated_fields(\n",
    "#     field_fn=_paraxial_gaussian_field_fn,\n",
    "#     x=x,\n",
    "#     y=y,\n",
    "#     z=jnp.zeros_like(x),\n",
    "#     beam_origin_x=jnp.amax(x) / 2,\n",
    "#     beam_origin_y=jnp.amax(y) / 2,\n",
    "#     beam_origin_z=thickness_ambient - beam_focus_offset,\n",
    "#     polar_angle=jnp.asarray(polar_angle),\n",
    "#     azimuthal_angle=jnp.asarray(azimuthal_angle),\n",
    "#     polarization_angle=jnp.asarray(polarization_angle),\n",
    "# )\n",
    "\n",
    "# # Plot the beam.\n",
    "# plt.figure(figsize=(5,  5))\n",
    "# plt.title(\"Input Gaussian beam (Ex.imag)\")\n",
    "# extent = (x.min(), x.max(), y.min(), y.max())\n",
    "# plt.xlabel(\"x\")\n",
    "# plt.ylabel(\"y\")\n",
    "# plt.imshow(beam_ex[0, 0, 0, ...].imag, cmap=\"bwr\", extent=extent)\n",
    "# plt.show()"
   ]
  },
  {
   "cell_type": "markdown",
   "metadata": {},
   "source": [
    "Notice that we have the excitation field in real-space coordinates. To use it in FMM, we must transform it into Fourier domain, given the shape of our supercell. We can use `sources.amplitudes_for_fields()` for this task. Just remember to pass in the eigensolve result of the layer that contains the field as well as the the dimension indices of the Brillouin Zone grid. Since we have a wavelength dim at 0, our M and N dims are 1 and 2."
   ]
  },
  {
   "cell_type": "code",
   "execution_count": null,
   "metadata": {},
   "outputs": [],
   "source": [
    "# brillouin_grid_axes = (1, 2)\n",
    "# # Add an additional axis for the number of sources\n",
    "# fwd_amplitude, _ = fmmax.amplitudes_for_fields(\n",
    "#     ex=beam_ex[..., jnp.newaxis],\n",
    "#     ey=beam_ey[..., jnp.newaxis],\n",
    "#     hx=beam_hx[..., jnp.newaxis],\n",
    "#     hy=beam_hy[..., jnp.newaxis],\n",
    "#     layer_solve_result=solve_result_ambient,\n",
    "#     brillouin_grid_axes=brillouin_grid_axes,\n",
    "# )"
   ]
  },
  {
   "cell_type": "markdown",
   "metadata": {},
   "source": [
    "With the Fourier amplitudes of the fields computed, we can finally calculate the amplitudes inside each layer."
   ]
  },
  {
   "cell_type": "code",
   "execution_count": null,
   "metadata": {},
   "outputs": [],
   "source": [
    "# # Compute the fields inside the structure.\n",
    "# amplitudes_interior = fmmax.stack_amplitudes_interior(\n",
    "#     s_matrices_interior=s_matrices_interior,\n",
    "#     forward_amplitude_0_start=fwd_amplitude,\n",
    "#     backward_amplitude_N_end=jnp.zeros_like(fwd_amplitude),\n",
    "# )"
   ]
  },
  {
   "cell_type": "markdown",
   "metadata": {},
   "source": [
    "## Brillouin Zone Integration and Visualization \n",
    "\n",
    "With that, let's begin the postprocessing steps to convert back to the real-space for visualization."
   ]
  },
  {
   "cell_type": "code",
   "execution_count": null,
   "metadata": {},
   "outputs": [],
   "source": [
    "# # Coordinates where fields are to be evaluated.\n",
    "# x = jnp.arange(0, pitch * brillouin_grid_shape[0], resolution_fields)\n",
    "# y = jnp.ones_like(x) * pitch * brillouin_grid_shape[1] / 2\n",
    "# (ex, ey, ez), (hx, hy, hz), (x, y, z) = fmmax.stack_fields_3d_on_coordinates(\n",
    "#     amplitudes_interior=amplitudes_interior,\n",
    "#     layer_solve_results=[\n",
    "#         solve_result_ambient,\n",
    "#         solve_result_crystal,\n",
    "#         solve_result_ambient,\n",
    "#     ],\n",
    "#     layer_thicknesses=[\n",
    "#         thickness_ambient,\n",
    "#         thickness_slab,\n",
    "#         thickness_ambient,\n",
    "#     ],\n",
    "#     layer_znum=[\n",
    "#         int(thickness_ambient / resolution_fields),\n",
    "#         int(thickness_slab / resolution_fields),\n",
    "#         int(thickness_ambient / resolution_fields),\n",
    "#     ],\n",
    "#     x=x,\n",
    "#     y=y,\n",
    "# )\n"
   ]
  },
  {
   "cell_type": "markdown",
   "metadata": {},
   "source": [
    "Just like before, we can now perform the Brillouin zone integration by averaging over the Brillouin zone grid batch axes."
   ]
  },
  {
   "cell_type": "code",
   "execution_count": null,
   "metadata": {},
   "outputs": [],
   "source": [
    "# ex, ey, ez, hx, hy, hz = [\n",
    "#     jnp.mean(field, axis=brillouin_grid_axes) for field in (ex, ey, ez, hx, hy, hz)\n",
    "# ]"
   ]
  },
  {
   "cell_type": "markdown",
   "metadata": {},
   "source": [
    "Finally, we visualize the BZ averaged fields for each wavelength."
   ]
  },
  {
   "cell_type": "code",
   "execution_count": null,
   "metadata": {},
   "outputs": [],
   "source": [
    "# # Compute some cross sections for visualizing the structure.\n",
    "# section_xy, section_xz, section_yz = crystal_cross_sections(\n",
    "#     thickness_ambient=float(thickness_ambient),\n",
    "#     thickness_slab=float(thickness_slab),\n",
    "#     pitch=pitch,\n",
    "#     diameter=diameter,\n",
    "#     resolution=resolution,\n",
    "#     num_unit_cells=brillouin_grid_shape,\n",
    "# )\n",
    "\n",
    "# for wavelength_idx in range(3):\n",
    "#     xplot, zplot = jnp.meshgrid(x, z, indexing=\"ij\")\n",
    "#     field_plot = ex[wavelength_idx, :, :, 0].real\n",
    "\n",
    "#     plt.figure(figsize=(float(jnp.amax(xplot)), float(jnp.amax(zplot))), dpi=80)\n",
    "#     plt.title(\"Wavelength = \" + str(wavelengths[wavelength_idx, 0, 0]))\n",
    "#     ax = plt.subplot(111)\n",
    "#     im = plt.pcolormesh(xplot, zplot, field_plot, shading=\"nearest\", cmap=\"bwr\")\n",
    "\n",
    "#     im.set_clim((-float(jnp.amax(field_plot)), float(jnp.amax(field_plot))))\n",
    "\n",
    "#     contours = measure.find_contours(onp.array(section_xz))\n",
    "#     scale_factor = pitch / resolution\n",
    "#     for c in contours:\n",
    "#         ax.plot(c[:, 0] / scale_factor, c[:, 1] / scale_factor, \"k\")\n",
    "\n",
    "#     ax.axis(\"equal\")\n",
    "#     ax.axis(\"off\")\n",
    "#     ax.set_ylim(ax.get_ylim()[::-1])\n",
    "\n",
    "#     plt.subplots_adjust(left=0, bottom=0, right=1, top=1)\n",
    "#     plt.show()"
   ]
  },
  {
   "cell_type": "markdown",
   "metadata": {},
   "source": [
    "We can clearly see a Gaussian beam with an incidence angle of 15°. The photonic crystal clearly modulates he incident Gaussian. We also observe some transversely coupled fields in the photonic crystal."
   ]
  }
 ],
 "metadata": {
  "kernelspec": {
   "display_name": "invrs-cpu",
   "language": "python",
   "name": "python3"
  },
  "language_info": {
   "codemirror_mode": {
    "name": "ipython",
    "version": 3
   },
   "file_extension": ".py",
   "mimetype": "text/x-python",
   "name": "python",
   "nbconvert_exporter": "python",
   "pygments_lexer": "ipython3",
   "version": "3.10.12"
  }
 },
 "nbformat": 4,
 "nbformat_minor": 2
}
