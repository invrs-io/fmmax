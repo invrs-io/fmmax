{
 "cells": [
  {
   "cell_type": "markdown",
   "metadata": {},
   "source": [
    "# Isolated dipole farfield\n",
    "\n",
    "The `fmmax.farfield` module provides functions that enable the calculation of farfield radiation patterns, e.g. from dipole sources embedded within a stack of thin films. Since the Fourier Modal Method deals with biperiodic structures, such a calculation will generally yield the farfield pattern from a periodic array of dipoles. However, when combined with Brillouin zone integration, one can calculate the farfield radiation pattern of an isolated dipole in the stack. The ability to perform such calculations is useful, e.g. to study the distribution of carriers in a multi-quantum well active region ([David et al.](https://pubs.aip.org/aip/apl/article-abstract/92/5/053502/928138/Carrier-distribution-in-0001-InGaN-GaN-multiple)).\n",
    "\n",
    "In this notebook, we demonstrate the use of Brillouin zone integration and the `fmmax.farfield` module to compute the farfield of an isolated dipole in the simple case of a dipole in vacuum. The same approach can be used to compute the farfield for a dipole in an arbitrary stack of thin films."
   ]
  },
  {
   "cell_type": "markdown",
   "metadata": {},
   "source": [
    "## Dipole in vacuum\n",
    "\n",
    "First, we'll take a look at the farfield pattern from a dipole in vacuum. This is a useful starting point since the farfield pattern can be computed analytically; we can use the analytical expression for the farfield pattern to valdiate the numerical result computed. The analytical expression for farfield intensity is,\n",
    "$$\n",
    "I(\\gamma) \\propto \\sin^2(\\gamma)\n",
    "$$\n",
    "if $\\gamma$ is the angle with respect to the polarization direction of the dipole."
   ]
  },
  {
   "cell_type": "markdown",
   "metadata": {},
   "source": [
    "Next, we'll compute the farfield pattern numerically. We use a wavelength of `1.0` and choose a unit cell which is smaller than one half wavelength to ensure that only the `(0, 0)` Fourier order corresponds to a propagating wave. Since we are interested in the farfield, we only need to include the propagating waves in our Fourier expansion. Thus, with such a small unit cell we only need to include a single Fourier order in the expansion."
   ]
  },
  {
   "cell_type": "code",
   "execution_count": null,
   "metadata": {},
   "outputs": [],
   "source": [
    "import numpy as onp\n",
    "from fmmax import basis\n",
    "\n",
    "wavelength = onp.asarray(1.0)\n",
    "pitch = 0.45\n",
    "primitive_lattice_vectors = basis.LatticeVectors(pitch * basis.X, pitch * basis.Y)\n",
    "expansion = basis.Expansion(onp.asarray([[0, 0]], dtype=int))"
   ]
  },
  {
   "cell_type": "markdown",
   "metadata": {},
   "source": [
    "We'll use Brillouin zone integration to model an isolated dipole. To do this, we need to compute the fields using expansions that are centered around wavevectors on a grid in the Brillouin zone; generate the in-plane wavevectors associated with each point on this grid."
   ]
  },
  {
   "cell_type": "code",
   "execution_count": null,
   "metadata": {},
   "outputs": [],
   "source": [
    "in_plane_wavevector = basis.brillouin_zone_in_plane_wavevector(\n",
    "    brillouin_grid_shape=(101, 101),\n",
    "    primitive_lattice_vectors=primitive_lattice_vectors,\n",
    ")"
   ]
  },
  {
   "cell_type": "markdown",
   "metadata": {},
   "source": [
    "We can now solve for the modes of our periodic vacuum and compute its scattering matrix."
   ]
  },
  {
   "cell_type": "code",
   "execution_count": null,
   "metadata": {},
   "outputs": [],
   "source": [
    "import jax.numpy as jnp\n",
    "from fmmax import fmm, scattering\n",
    "\n",
    "solve_result_vacuum = fmm.eigensolve_isotropic_media(\n",
    "    permittivity=jnp.asarray([[1.0]]),\n",
    "    wavelength=jnp.asarray(wavelength),\n",
    "    in_plane_wavevector=in_plane_wavevector,\n",
    "    primitive_lattice_vectors=primitive_lattice_vectors,\n",
    "    expansion=expansion,\n",
    "    formulation=fmm.Formulation.FFT,\n",
    ")\n",
    "s_matrix_vacuum = scattering.stack_s_matrix(\n",
    "    layer_solve_results=[solve_result_vacuum],\n",
    "    layer_thicknesses=[1.0],\n",
    ")"
   ]
  },
  {
   "cell_type": "markdown",
   "metadata": {},
   "source": [
    "Next, define the sources associated with x, y, and z-oriented dipoles. These are stacked into a single array, with the final axis of the array corresponding to the dipole orientation. This is consistent with the FMMAX convention of using the trailing axis as the batch axis for wave amplitudes and electromagnetic fields."
   ]
  },
  {
   "cell_type": "code",
   "execution_count": null,
   "metadata": {},
   "outputs": [],
   "source": [
    "from fmmax import sources\n",
    "\n",
    "dipole = sources.dirac_delta_source(\n",
    "    location=jnp.asarray([[pitch / 2, pitch / 2]]),\n",
    "    in_plane_wavevector=in_plane_wavevector,\n",
    "    primitive_lattice_vectors=primitive_lattice_vectors,\n",
    "    expansion=expansion,\n",
    ")\n",
    "zeros = jnp.zeros_like(dipole)\n",
    "jx = jnp.concatenate([dipole, zeros, zeros], axis=-1)\n",
    "jy = jnp.concatenate([zeros, dipole, zeros], axis=-1)\n",
    "jz = jnp.concatenate([zeros, zeros, dipole], axis=-1)"
   ]
  },
  {
   "cell_type": "markdown",
   "metadata": {},
   "source": [
    "Next, we compute wave amplitudes assuming that the dipole source is sandwiched by vacuum layers above and below. We'll consider the backward-going amplitude in the first layer, which is equivalent to the forward going amplitude in the second layer. Since the only source is between the two layers, the forward going amplitude in the first layer is zero, as is the backward-going amplitude in the second layer.\n",
    "\n",
    "From the amplitude we compute the flux, i.e. the power in each Fourier order. Again, only the backward flux will be nonzero."
   ]
  },
  {
   "cell_type": "code",
   "execution_count": null,
   "metadata": {},
   "outputs": [],
   "source": [
    "from fmmax import fields\n",
    "\n",
    "bwd_amplitude_0_end, *_ = sources.amplitudes_for_source(\n",
    "    jx=jx,\n",
    "    jy=jy,\n",
    "    jz=jz,\n",
    "    s_matrix_before_source=s_matrix_vacuum,\n",
    "    s_matrix_after_source=s_matrix_vacuum,\n",
    ")\n",
    "_, backward_flux = fields.directional_poynting_flux(\n",
    "    forward_amplitude=jnp.zeros_like(bwd_amplitude_0_end),\n",
    "    backward_amplitude=bwd_amplitude_0_end,\n",
    "    layer_solve_result=solve_result_vacuum,\n",
    ")"
   ]
  },
  {
   "cell_type": "markdown",
   "metadata": {},
   "source": [
    "Now, compute the farfield profile."
   ]
  },
  {
   "cell_type": "code",
   "execution_count": null,
   "metadata": {},
   "outputs": [],
   "source": [
    "import matplotlib.pyplot as plt\n",
    "from fmmax import farfield\n",
    "\n",
    "(\n",
    "    polar_angle,\n",
    "    azimuthal_angle,\n",
    "    solid_angle,\n",
    "    farfield_flux,\n",
    ") = farfield.farfield_profile(\n",
    "    flux=-backward_flux,\n",
    "    wavelength=wavelength,\n",
    "    in_plane_wavevector=in_plane_wavevector,\n",
    "    primitive_lattice_vectors=primitive_lattice_vectors,\n",
    "    expansion=expansion,\n",
    "    brillouin_grid_axes=(0, 1),\n",
    ")\n",
    "# Sum the s and p polarizations for each direction\n",
    "farfield_flux = jnp.sum(farfield_flux, axis=-2)\n",
    "mask = ~jnp.isnan(farfield_flux)\n",
    "farfield_flux /= jnp.amax(farfield_flux[mask])\n",
    "\n",
    "\n",
    "def plot_farfield(flux, polar_angle, azimuthal_angle):\n",
    "    x = jnp.sin(polar_angle) * jnp.cos(azimuthal_angle)\n",
    "    y = jnp.sin(polar_angle) * jnp.sin(azimuthal_angle)\n",
    "\n",
    "    for i, orientation in enumerate([\"x\", \"y\", \"z\"]):\n",
    "        ax = plt.subplot(1, 3, i + 1)\n",
    "        mask = ~onp.isnan(flux[..., 0])\n",
    "        ax.tricontourf(x[mask], y[mask], flux[..., i][mask], levels=100)\n",
    "        for angle_deg in [15, 30, 45, 60, 75, 90]:\n",
    "            t = jnp.linspace(0, 2 * jnp.pi)\n",
    "            xa = jnp.cos(jnp.deg2rad(angle_deg)) * jnp.cos(t)\n",
    "            ya = jnp.cos(jnp.deg2rad(angle_deg)) * jnp.sin(t)\n",
    "            ax.plot(xa, ya, \"k\", lw=0.5)\n",
    "        ax.set_aspect(\"equal\")\n",
    "        ax.axis(False)\n",
    "        ax.set_title(orientation)\n",
    "\n",
    "\n",
    "plot_farfield(farfield_flux, polar_angle, azimuthal_angle)"
   ]
  },
  {
   "cell_type": "markdown",
   "metadata": {},
   "source": [
    "We can also compare this to the analytical farfield."
   ]
  },
  {
   "cell_type": "code",
   "execution_count": null,
   "metadata": {},
   "outputs": [],
   "source": [
    "x = jnp.sin(polar_angle) * jnp.cos(azimuthal_angle)\n",
    "y = jnp.sin(polar_angle) * jnp.sin(azimuthal_angle)\n",
    "z_flux = jnp.sin(polar_angle) ** 2\n",
    "x_flux = jnp.sin(jnp.arccos(x)) ** 2\n",
    "y_flux = jnp.sin(jnp.arccos(y)) ** 2\n",
    "analytical_farfield_flux = jnp.stack([x_flux, y_flux, z_flux], axis=-1)\n",
    "\n",
    "plot_farfield(analytical_farfield_flux, polar_angle, azimuthal_angle)"
   ]
  },
  {
   "cell_type": "markdown",
   "metadata": {},
   "source": [
    "These are in excellent agreement. Finally, we can plot a cut through the farfield profile, and verify that it has $cos^2$ dependence."
   ]
  },
  {
   "cell_type": "code",
   "execution_count": null,
   "metadata": {},
   "outputs": [],
   "source": [
    "d = farfield_flux.shape[0] // 2\n",
    "theta_deg = jnp.rad2deg(polar_angle[:, d]) * jnp.where(azimuthal_angle[:, d] > -0.9 * jnp.pi, 1, -1)\n",
    "\n",
    "plt.figure(figsize=(6, 2))\n",
    "ax = plt.subplot(131)\n",
    "ax.plot(theta_deg, jnp.cos(jnp.deg2rad(theta_deg))**2, lw=6)\n",
    "ax.plot(theta_deg, farfield_flux[:, d, 0], lw=2)\n",
    "ax.set_title(\"x\")\n",
    "ax.set_xlabel(\"Polar angle\")\n",
    "ax.set_ylabel(\"Intensity\")\n",
    "\n",
    "ax = plt.subplot(132)\n",
    "ax.plot(theta_deg, jnp.cos(jnp.deg2rad(theta_deg))**2, lw=6)\n",
    "ax.plot(theta_deg, farfield_flux[d, :, 1], lw=2)\n",
    "ax.set_title(\"y\")\n",
    "ax.set_yticklabels([])\n",
    "ax.set_xlabel(\"Polar angle\")\n",
    "\n",
    "ax = plt.subplot(133)\n",
    "ax.plot(theta_deg, jnp.sin(jnp.deg2rad(theta_deg))**2, lw=6, label=\"analytical\")\n",
    "ax.plot(theta_deg, farfield_flux[:, d, 2], lw=2, label=\"numerical\")\n",
    "ax.set_title(\"z\")\n",
    "ax.set_yticklabels([])\n",
    "ax.set_xlabel(\"Polar angle\")\n",
    "_ = ax.legend(bbox_to_anchor=(1, 1))"
   ]
  }
 ],
 "metadata": {
  "kernelspec": {
   "display_name": "invrs",
   "language": "python",
   "name": "python3"
  },
  "language_info": {
   "codemirror_mode": {
    "name": "ipython",
    "version": 3
   },
   "file_extension": ".py",
   "mimetype": "text/x-python",
   "name": "python",
   "nbconvert_exporter": "python",
   "pygments_lexer": "ipython3",
   "version": "3.10.12"
  }
 },
 "nbformat": 4,
 "nbformat_minor": 2
}
