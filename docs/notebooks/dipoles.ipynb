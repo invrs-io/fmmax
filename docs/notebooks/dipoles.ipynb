{
 "cells": [
  {
   "cell_type": "markdown",
   "id": "2a3a32da",
   "metadata": {},
   "source": [
    "# Introduction: simulating a periodic dipole\n",
    "\n",
    "In this tutorial, we will simulate a simple (periodic) dipole in vacuum. We'll compute important *real-space* quantities, like the light extraction efficiency and the integrated far-field.\n",
    "\n",
    "Specifically, we'll examine how simulating structures using FMM is different than other discretization techniques (e.g. FDTD) as it expands both the fields and the structure on a *Fourier basis*. Since we typically describe our simulation structure in the *real-space* domain, there are various ways one can represent the structure on a Fourier basis.\n",
    "\n",
    "We also explore how to perform a *convergence check*, which is important for all numerical methods that attempt to discretize Maxwell's equations. In the context of FMM, this means gradually increasing the number of *Fourier terms* (or basis elements) and examining how some fundamental quantity (e.g. reflection, transmission) changes.\n",
    "\n",
    "Finally, we show how we can visualize the steady-state field response in the *real-space* domain, even though it is computed in the Fourier domain."
   ]
  },
  {
   "cell_type": "markdown",
   "id": "5cb40911",
   "metadata": {},
   "source": [
    "## Setting up the simulation\n",
    "\n",
    "We want to simulate a simple periodic array of dipoles in a vacuum. Let's establish the following simulation parameters:\n",
    "* Unit cell has (x, y, z) dimensions of (1400 nm, 1400 nm, 1200 nm).\n",
    "* The x and y directions have periodic boundary conditions (with no Bloch phase).\n",
    "* The z direction has an *open* boundary condition (both above and below).\n",
    "* The permittivity of vacuum is $\\varepsilon=1$\n",
    "* The source is described by an *x-oriented* dipole emitting at 620 nm and is placed in the *center* of the unit cell."
   ]
  },
  {
   "cell_type": "markdown",
   "id": "1467c6a3",
   "metadata": {},
   "source": [
    "First, let's define our FMM basis, which is defined by a pair of `LatticeVectors`. We can define our `LatticeVectors` either in real space, or in reciprocal space. In this simple example, where we wish to define a simple cubic lattice structure, we'll do so in real space using $\\hat{x}$- and $\\hat{y}$-oriented vectors scaled by the unit-cell size (the `pitch`).\n",
    "\n",
    "FMMAX uses *natural units*. Since Maxwell's equations are scale-invariant, we can arbitrarily choose a lengthscale for all of our simulation parameters. The only requirement is that we remain consistent when defining all dimensionfull quantities.\n",
    "\n",
    "For this tutorial, let's specify all quantities involving length (including wavelength) in *microns* ($\\mu\\mathrm{m}$)"
   ]
  },
  {
   "cell_type": "code",
   "execution_count": null,
   "id": "aab5786f",
   "metadata": {},
   "outputs": [],
   "source": [
    "import fmmax\n",
    "\n",
    "pitch = 1.4 # microns\n",
    "height = 1.2 #microns\n",
    "primitive_lattice_vectors = fmmax.LatticeVectors(\n",
    "    u=pitch * fmmax.X, v=pitch * fmmax.Y\n",
    ")"
   ]
  },
  {
   "cell_type": "markdown",
   "id": "1ab48a54",
   "metadata": {},
   "source": [
    "Using the basis, we can define a corresponding *expansion* which is used to represent both the field and geometry in Fourier space. In addition to our basis, we need to choose a finite *number of terms* used to represent this expansion (`approximate_number_of_terms`) and a *truncation method*\n",
    "\n",
    "The number of terms is the *total* number of terms in both dimensions. FMMAX will do its best to expand onto that exact number. But in order to maintain a symmetric expansion, the total number of terms may differ from what is specified.\n",
    "\n",
    "The truncation describes how one should choose the set of lattice vectors. A `CIRCULAR` truncation will generate a set of lattice vectors that are lying within a circular region. A `PARALLELOGRAMIC` truncation will do the same, but for an area described by a parallelogram.\n",
    "\n",
    "For this example, let's choose a `CIRCULAR` truncation with `200` terms."
   ]
  },
  {
   "cell_type": "code",
   "execution_count": null,
   "id": "da5d5a27",
   "metadata": {},
   "outputs": [],
   "source": [
    "approximate_num_terms = 200\n",
    "expansion = fmmax.generate_expansion(\n",
    "    primitive_lattice_vectors=primitive_lattice_vectors,\n",
    "    approximate_num_terms=approximate_num_terms,\n",
    "    truncation=fmmax.Truncation.CIRCULAR,\n",
    ")"
   ]
  },
  {
   "cell_type": "markdown",
   "id": "5820c927",
   "metadata": {},
   "source": [
    "Next, we need to define our Bloch phase, or an `in_plane_wavevector` that describes the phase relationship from one side of the unit cell to the other side. In this example, we'll enforce standard periodic boundary conditions (so no extra Bloch phase)."
   ]
  },
  {
   "cell_type": "code",
   "execution_count": null,
   "id": "4f428c38",
   "metadata": {},
   "outputs": [],
   "source": [
    "import jax.numpy as jnp\n",
    "\n",
    "in_plane_wavevector = jnp.zeros((2,))"
   ]
  },
  {
   "cell_type": "markdown",
   "id": "35043bdf",
   "metadata": {},
   "source": [
    "We can now define our (periodic) dipole source located at the center of our unit cell. We note that there are a few nuances to defining a source like this within an FMM framework.\n",
    "\n",
    "First, a dipole source is an infinite superposition of many planewave sources. We need to *expand* the dipole source (a spatial delta function) onto our FMM basis. the `fmmax.dirac_delta_source()` function does exactly that.\n",
    "\n",
    "Second, we want the source to propagate in *both* directions (top and bottom). These are commonly referred to as *embedded sources*, and will require some care later when we actually propagate the sources through the stack."
   ]
  },
  {
   "cell_type": "code",
   "execution_count": null,
   "id": "38a46842",
   "metadata": {},
   "outputs": [],
   "source": [
    "dipole = fmmax.dirac_delta_source(\n",
    "    location=jnp.asarray([[pitch / 2, pitch / 2]]),\n",
    "    in_plane_wavevector=in_plane_wavevector,\n",
    "    primitive_lattice_vectors=primitive_lattice_vectors,\n",
    "    expansion=expansion,\n",
    ")"
   ]
  },
  {
   "cell_type": "markdown",
   "id": "e91abfd1",
   "metadata": {},
   "source": [
    "Next, we'll define the geometry (vacuum). If we want to center the dipole source in the z direction, we need to specify two layers of equal width, such that the dipole resides *between* these two layers.\n",
    "\n",
    "FMMAX needs to solve for all the eigenmodes of each layer. Since the layer above and below the dipole are the same, we only need to solve for *one* layer (and cache the results for the other layer.) Furthermore, since vacuum is *isotropic*, we can use the `fmmax.eigensolve_isotropic_media()` function.\n",
    "\n",
    "To help with numerical convergence, we add a negligble amount of loss to the vacuum permittivity. Since the layer is homogenous (no extra patterning) we ensure the shape of our `permittivity` array is `(1,1)`. FMMAX can analytically compute the eigenmodes in this case.\n",
    "\n",
    "The `wavelength` parameter is also passed as an array. Future tutorials will explore how one can batch over multiple wavelengths efficiently."
   ]
  },
  {
   "cell_type": "code",
   "execution_count": null,
   "id": "779de2d7",
   "metadata": {},
   "outputs": [],
   "source": [
    "wavelength = jnp.asarray(0.620)\n",
    "permittivity = jnp.asarray([[(1.0 + 0.0001j) ** 2]])\n",
    "layer_solve_result = fmmax.eigensolve_isotropic_media(\n",
    "    wavelength=wavelength,\n",
    "    in_plane_wavevector=in_plane_wavevector,\n",
    "    primitive_lattice_vectors=primitive_lattice_vectors,\n",
    "    permittivity=permittivity,\n",
    "    expansion=expansion,\n",
    ")\n",
    "\n",
    "layer_thickness = height / 2.0"
   ]
  },
  {
   "cell_type": "markdown",
   "id": "bc293ba1",
   "metadata": {},
   "source": [
    "We can now compute scattering matrices that relate the forward- and backward-propagating eigenmodes in each layer. There are multiple scattering matrix routines within FMMAX with various levels of abstraction. In this particular case, we want to compute a scattering matrix for each layer independently (i.e. we *don't* want to cascade the layers together *yet*). This way, we can *embed* our dipole source between the layers (and their scattering matrices)."
   ]
  },
  {
   "cell_type": "code",
   "execution_count": null,
   "id": "c068d913",
   "metadata": {},
   "outputs": [],
   "source": [
    "s_matrix_before_source = fmmax.stack_s_matrix(\n",
    "    layer_solve_results=[layer_solve_result],\n",
    "    layer_thicknesses=[layer_thickness],\n",
    ")\n",
    "\n",
    "# The layers are identical\n",
    "s_matrix_after_source = s_matrix_before_source"
   ]
  },
  {
   "cell_type": "markdown",
   "id": "611ac291",
   "metadata": {},
   "source": [
    "Finally, we can propagate the dipole source into each of these layers by properly exciting the corresponding eigenmodes and cascading the result. The `fmmax.amplitudes_for_source()` function will properly convert the dipole electric current sources to the corresponding Fourier field amplitudes and propagate them along both directions (top and bottom in this context)."
   ]
  },
  {
   "cell_type": "code",
   "execution_count": null,
   "id": "00e36568",
   "metadata": {},
   "outputs": [],
   "source": [
    "(\n",
    "    _,\n",
    "    _,\n",
    "    bwd_amplitude_before_end,\n",
    "    fwd_amplitude_after_start,\n",
    "    _,\n",
    "    _,\n",
    ") = fmmax.amplitudes_for_source(\n",
    "    jx=dipole,\n",
    "    jy=jnp.zeros_like(dipole),\n",
    "    jz=jnp.zeros_like(dipole),\n",
    "    s_matrix_before_source=s_matrix_before_source,\n",
    "    s_matrix_after_source=s_matrix_after_source,\n",
    ")"
   ]
  },
  {
   "cell_type": "markdown",
   "id": "df5e8ac3",
   "metadata": {},
   "source": [
    "And that's it! We've successfully simulated a periodic dipole in vacumm. The `bwd_amplitude_before_end` quantity consists of all the Fourier terms that describe the *backward* propagating eigenmodes just before the end of the first layer. In this case, that corresponds to the \"upward\" propagating waves just above the source itself (i.e. just above the bottom interface of the top layer).\n",
    "\n",
    "Similarly, the `fwd_amplitude_after_start` quantity consists of the Fourier terms that describe the *forward* propagating eigenmodes just after the start of the last layer. In this case, that corresponds to the \"downward\" propagating waves just below the source (i.e. just below the top interface of the bottom layer).\n",
    "\n",
    "The \"forward\" and \"backward\" naming conventions may appear confusing at first, but it's intended to avoid ambiguity. Later tutorials will describe much more complicated layer stacks that can be arbitrarily defined (eg. top-to-bottom or bottom-to-top). This naming convention ensures that the Fourier amplitudes can be properly interpreted regardless of the problem formulation.\n",
    "\n",
    "Finally, we note that these Fourier amplitudes themselves aren't very useful. In the next, section, we'll explore how we can compute various important real-space quantities from these Fourier amplitudes directly."
   ]
  },
  {
   "cell_type": "markdown",
   "id": "40f3f9b1",
   "metadata": {},
   "source": [
    "## Postprocessing\n",
    "\n",
    "Now that we've simulated the structure itself, let's discuss some of the various quantities we may want to extract. Specifically, let's do the following:\n",
    "\n",
    "* Compute the upward extraction efficiency.\n",
    "* Extract the X/Y nearfields 500 nm above the dipole\n",
    "\n",
    "Mesh setting: 10 nm for x, y, z"
   ]
  },
  {
   "cell_type": "markdown",
   "id": "9ec28e30",
   "metadata": {},
   "source": [
    "### Extraction efficiency\n",
    "\n",
    "To properly compute the extraction efficiency, we need to compute the power propagating upward *normalized* by the power emitted by the dipole source itself."
   ]
  },
  {
   "cell_type": "code",
   "execution_count": null,
   "id": "184d36ff",
   "metadata": {},
   "outputs": [],
   "source": [
    "# Compute the Poynting flux before and after the source\n",
    "fwd_flux, bwd_flux= fmmax.directional_poynting_flux(\n",
    "    forward_amplitude=fwd_amplitude_after_start,\n",
    "    backward_amplitude=bwd_amplitude_before_end,\n",
    "    layer_solve_result=s_matrix_before_source.end_layer_solve_result,\n",
    ")\n",
    "\n",
    "# Compute total power emitted by the source by summing over the Brillouin Zone.\n",
    "forward_emitted_power = jnp.sum(fwd_flux)\n",
    "backward_emitted_power = -jnp.sum(bwd_flux)\n",
    "total_emitted_power = forward_emitted_power + backward_emitted_power\n",
    "\n",
    "# The total extracted power is the forward emitted power.\n",
    "total_extracted_power = forward_emitted_power\n",
    "\n",
    "# Calculate the extraction efficiency.\n",
    "extraction_efficiency = total_extracted_power / total_emitted_power\n",
    "print(extraction_efficiency)"
   ]
  },
  {
   "cell_type": "markdown",
   "id": "1d4fbd8f",
   "metadata": {},
   "source": [
    "### Near-field profiles\n",
    "\n",
    "We also have the option to visualize the near-field profiles. Given that the amplitudes we've computed thus far are in the Fourier domain, it's necessary to transform them into fields on a Cartesian grid prior to visualization. The `fields.layer_fields_3d()` function is ideally suited for this purpose."
   ]
  },
  {
   "cell_type": "code",
   "execution_count": null,
   "id": "4824169e",
   "metadata": {},
   "outputs": [],
   "source": [
    "import matplotlib.pyplot as plt\n",
    "\n",
    "# Define mesh size and number of grid points in x and y.\n",
    "mesh_size = 0.01\n",
    "xy_n_grid = int(pitch / mesh_size)\n",
    "z_n_grid = int(height / mesh_size)\n",
    "\n",
    "# Compute the fields in the cartesian coordinates.\n",
    "(ef, hf, (x, y, z)) = fmmax.layer_fields_3d(\n",
    "    forward_amplitude_start=fwd_amplitude_after_start,\n",
    "    backward_amplitude_end=bwd_amplitude_before_end,\n",
    "    layer_solve_result=s_matrix_before_source.end_layer_solve_result,\n",
    "    layer_thickness=layer_thickness,\n",
    "    layer_znum=z_n_grid,\n",
    "    grid_shape=(xy_n_grid, xy_n_grid),\n",
    "    num_unit_cells=(1, 1)\n",
    ")\n",
    "\n",
    "# Take a cross section of the electric field at z = 0.5um (140th grid point)\n",
    "cross_section = ef[0, :, :, 140, 0]\n",
    "extent = [-pitch / 2, pitch / 2, -pitch / 2, pitch / 2]\n",
    "plt.imshow(jnp.abs(cross_section)**2, cmap='hot', interpolation='nearest', extent=extent)\n",
    "plt.xlabel('x (um)')\n",
    "plt.ylabel('y (um)')\n",
    "plt.title('Electric field (E_x) intensity at z=0.5um')\n",
    "plt.show()"
   ]
  },
  {
   "cell_type": "markdown",
   "id": "44ace962",
   "metadata": {},
   "source": [
    "## Convergence checks\n",
    "\n",
    "We can enhance the resolution of smaller field details and subsequently improve the simulation accuracy by increasing the number of Fourier terms. However, this comes with the trade-off of increased computational complexity and memory usage. To better understand this balance, it may be beneficial to perform a convergence test.\n",
    "\n",
    "Let's reuse our previously written code for the `plot_cross_section()` function below. We then visualize the 2d cross-section with respect to different `approximate_num_terms` values."
   ]
  },
  {
   "cell_type": "code",
   "execution_count": null,
   "id": "26c43d53",
   "metadata": {},
   "outputs": [],
   "source": [
    "import matplotlib.pyplot as plt\n",
    "\n",
    "def plot_cross_section(num_terms: int, ax: plt.Axes) -> None:\n",
    "    \"\"\"Helper function to plot the cross section of the electric field intensity.\n",
    "    \n",
    "    Args:   \n",
    "        num_terms: Number of terms in the expansion\n",
    "        ax: Matplotlib axes object\n",
    "    \"\"\"\n",
    "    # Define simulation parameters\n",
    "    pitch = 1.4  # microns\n",
    "    height = 1.2  # microns\n",
    "    mesh_size = 0.01\n",
    "    xy_n_grid = int(pitch / mesh_size)\n",
    "    z_n_grid = int(height / mesh_size)\n",
    "\n",
    "    # Set up the simulation\n",
    "    expansion = fmmax.generate_expansion(\n",
    "        primitive_lattice_vectors=primitive_lattice_vectors,\n",
    "        approximate_num_terms=num_terms,\n",
    "        truncation=fmmax.Truncation.CIRCULAR,\n",
    "    )\n",
    "\n",
    "    dipole = fmmax.dirac_delta_source(\n",
    "        location=jnp.asarray([[pitch / 2, pitch / 2]]),\n",
    "        in_plane_wavevector=in_plane_wavevector,\n",
    "        primitive_lattice_vectors=primitive_lattice_vectors,\n",
    "        expansion=expansion,\n",
    "    )\n",
    "\n",
    "    wavelength = jnp.asarray(0.620)\n",
    "    permittivity = jnp.asarray([[(1.0 + 0.0001j) ** 2]])\n",
    "    layer_solve_result = fmmax.eigensolve_isotropic_media(\n",
    "        wavelength=wavelength,\n",
    "        in_plane_wavevector=in_plane_wavevector,\n",
    "        primitive_lattice_vectors=primitive_lattice_vectors,\n",
    "        permittivity=permittivity,\n",
    "        expansion=expansion,\n",
    "    )\n",
    "\n",
    "    layer_thickness = height / 2.0\n",
    "\n",
    "    s_matrix_before_source = fmmax.stack_s_matrix(\n",
    "        layer_solve_results=[layer_solve_result],\n",
    "        layer_thicknesses=[layer_thickness],\n",
    "    )\n",
    "\n",
    "    # The layers are identical\n",
    "    s_matrix_after_source = s_matrix_before_source\n",
    "\n",
    "    (\n",
    "        _,\n",
    "        _,\n",
    "        bwd_amplitude_before_end,\n",
    "        fwd_amplitude_after_start,\n",
    "        _,\n",
    "        _,\n",
    "    ) = fmmax.amplitudes_for_source(\n",
    "        jx=dipole,\n",
    "        jy=jnp.zeros_like(dipole),\n",
    "        jz=jnp.zeros_like(dipole),\n",
    "        s_matrix_before_source=s_matrix_before_source,\n",
    "        s_matrix_after_source=s_matrix_after_source,\n",
    "    )\n",
    "\n",
    "    # Compute the fields in the cartesian coordinates\n",
    "    (ef, hf, (x, y, z)) = fmmax.layer_fields_3d(\n",
    "        forward_amplitude_start=fwd_amplitude_after_start,\n",
    "        backward_amplitude_end=bwd_amplitude_before_end,\n",
    "        layer_solve_result=s_matrix_before_source.end_layer_solve_result,\n",
    "        layer_thickness=layer_thickness,\n",
    "        layer_znum=z_n_grid,\n",
    "        grid_shape=(xy_n_grid, xy_n_grid),\n",
    "        num_unit_cells=(1, 1)\n",
    "    )\n",
    "\n",
    "    # Plot the cross section\n",
    "    cross_section = ef[0, :, :, 140, 0]\n",
    "    extent = [-pitch / 2, pitch / 2, -pitch / 2, pitch / 2]\n",
    "    ax.imshow(jnp.abs(cross_section) ** 2, cmap='hot', interpolation='nearest', extent=extent)\n",
    "    ax.set_xlabel('x (um)')\n",
    "    ax.set_ylabel('y (um)')\n",
    "    ax.set_title(f'Approx. number of terms = {num_terms}')\n",
    "\n",
    "n_term_list = [10, 20, 50, 100, 200, 300, 400, 500, 1000]\n",
    "fig, axs = plt.subplots(3, 3, figsize=(15, 15))\n",
    "for i, n_term in enumerate(n_term_list):\n",
    "    plot_cross_section(n_term, axs.ravel()[i])\n",
    "plt.tight_layout()\n",
    "plt.show()\n"
   ]
  }
 ],
 "metadata": {
  "kernelspec": {
   "display_name": "invrs-cpu",
   "language": "python",
   "name": "python3"
  },
  "language_info": {
   "codemirror_mode": {
    "name": "ipython",
    "version": 3
   },
   "file_extension": ".py",
   "mimetype": "text/x-python",
   "name": "python",
   "nbconvert_exporter": "python",
   "pygments_lexer": "ipython3",
   "version": "3.10.12"
  }
 },
 "nbformat": 4,
 "nbformat_minor": 5
}
