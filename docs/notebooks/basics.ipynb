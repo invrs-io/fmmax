{
 "cells": [
  {
   "cell_type": "markdown",
   "metadata": {},
   "source": [
    "# Basics\n",
    "\n",
    "In this example we will demonstrate te use of FMMAX for a basic diffraction calculation."
   ]
  },
  {
   "cell_type": "markdown",
   "metadata": {},
   "source": [
    "## Preliminaries\n",
    "\n",
    "The first step of a simulation is to specify the unit cell by defining the _primitive lattice vectors_. In this case, we will use a simple square unit cell with basis vectors $\\mathbf{u}=\\hat{\\mathbf{x}}=(1, 0)$ and $\\mathbf{v}=\\hat{\\mathbf{y}}=(0, 1)$."
   ]
  },
  {
   "cell_type": "code",
   "execution_count": null,
   "metadata": {},
   "outputs": [],
   "source": [
    "import fmmax\n",
    "\n",
    "primitive_lattice_vectors = fmmax.LatticeVectors(u=fmmax.X, v=fmmax.Y)"
   ]
  },
  {
   "cell_type": "markdown",
   "metadata": {},
   "source": [
    "In the Fourier modal method, the magnetic fields in the unit cell are given by,\n",
    "\n",
    "$$\n",
    "\\mathbf{H}(\\mathbf{r}, z) = \\sum_{l=0}^{N-1} \\mathbf{H}_l(z) e^{i(\\mathbf{k} + \\mathbf{G}_l)\\cdot \\mathbf{r}}\n",
    "$$\n",
    "\n",
    "where $\\mathbf{G}_l$ are the reciprocal lattice vectors and $\\mathbf{k}$ is the _in-plane wavevector_ for the excitation.\n",
    "\n",
    "The set of reciprocal lattice vectors are define the _expansion_; when generating an expansion, we only specify the _approximate_ number of terms; the actual number may differ. This is done to ensure that the expansion is always symmetric, i.e. if a particular $(k_{x}, k_{y})$ term is included, then all of $(\\pm k_{x}, \\pm k_{y})$ are included. In FMMAX, the vectors $\\mathbf{G}_l$ are ordered by magnitude, so that $\\mathbf{G}_0 = \\mathbf{0}$."
   ]
  },
  {
   "cell_type": "code",
   "execution_count": null,
   "metadata": {},
   "outputs": [],
   "source": [
    "expansion = fmmax.generate_expansion(primitive_lattice_vectors, approximate_num_terms=120)\n",
    "n = expansion.num_terms\n",
    "print(f\"Actual number of terms in expansion: {n}\")"
   ]
  },
  {
   "cell_type": "markdown",
   "metadata": {},
   "source": [
    "The expansion contains a `basis_coefficients` attribute which gives the Fourier order associated with each $\\mathbf{G}_l$. We'll take a look at the first few order in our expansion."
   ]
  },
  {
   "cell_type": "code",
   "execution_count": null,
   "metadata": {},
   "outputs": [],
   "source": [
    "expansion.basis_coefficients.tolist()[:5]"
   ]
  },
  {
   "cell_type": "markdown",
   "metadata": {},
   "source": [
    "As expected, the first term corresponds to the `(0, 0)`, order.\n",
    "\n",
    "The in-plane wavevector is associated with the excitation, and for plane waves is chosen so that the zeroth order corresponds propagation in a target direction, i.e. specific polar and azimuthal angles. The in-plane wavevector depends upon these angles as well as the wavelength and the permittivity of the medium in which light propagates in the target direction. Here, we'll consider a plane wave in vacuum with 0.65 μm wavelength that is incident at 30 degrees."
   ]
  },
  {
   "cell_type": "code",
   "execution_count": null,
   "metadata": {},
   "outputs": [],
   "source": [
    "import jax.numpy as jnp\n",
    "\n",
    "wavelength = jnp.asarray(0.65)\n",
    "in_plane_wavevector = fmmax.plane_wave_in_plane_wavevector(\n",
    "    wavelength=wavelength,\n",
    "    polar_angle=jnp.deg2rad(30.0),\n",
    "    azimuthal_angle=jnp.asarray(0.0),\n",
    "    permittivity=jnp.asarray(1.0),\n",
    ")"
   ]
  },
  {
   "cell_type": "markdown",
   "metadata": {},
   "source": [
    "## Structure definition\n",
    "\n",
    "Next, we'll define the structure. The structure consists of layers, and for each we need an array defining the permittivity and a scalar thickness.\n",
    "\n",
    "Permittivity arrays must be at least two-dimensional, with the two trailing axes corresponding to the $u$ and $v$ directions ($x$ and $y$ in this case). In the case of uniform layers (i.e. layers in which the permittivity does not vary spatially), it is best for the trailing axes to have shape `(1, 1)`. This triggers a special code path which computes layer eigenmodes analytically, which is more efficient and generally more accurate.\n",
    "\n",
    "Here, we'll model a rectangular pillar comprised of $n=1.85$ media on a $n=1.45$ substrate."
   ]
  },
  {
   "cell_type": "code",
   "execution_count": null,
   "metadata": {},
   "outputs": [],
   "source": [
    "permittivity_ambient = jnp.asarray([[1.0 + 0.0j]])**2\n",
    "permittivity_substrate = jnp.asarray([[1.45 + 0.0j]])**2\n",
    "print(f\"Permittivity shape for uniform layers: {permittivity_ambient.shape}\")\n",
    "\n",
    "x, y = fmmax.unit_cell_coordinates(primitive_lattice_vectors, shape=(100, 100))\n",
    "mask = (x > 0.3) & (x < 0.7) & (y > 0.05) & (y < 0.95)\n",
    "permittivity_pillar = jnp.where(mask, (1.45 + 0.0j)**2, (1.0 + 0.0j)**2)\n",
    "print(f\"Permittivity shape for patterned layer: {permittivity_pillar.shape}\")"
   ]
  },
  {
   "cell_type": "markdown",
   "metadata": {},
   "source": [
    "Let's visualize the pillar layer permittivity. Note that by FMMAX convention, spatial axes are always ordered as $(x, y, z)$, and hence we swap the $x$ and $y$ axes when plotting."
   ]
  },
  {
   "cell_type": "code",
   "execution_count": null,
   "metadata": {},
   "outputs": [],
   "source": [
    "import matplotlib.pyplot as plt\n",
    "\n",
    "plt.figure(figsize=(3, 3))\n",
    "ax = plt.subplot(111)\n",
    "ax.pcolormesh(y, x, permittivity_pillar.real)\n",
    "ax.set_aspect(\"equal\")\n",
    "ax.set_xlabel(\"y\")\n",
    "_ = ax.set_ylabel(\"x\")"
   ]
  },
  {
   "cell_type": "markdown",
   "metadata": {},
   "source": [
    "Define the thickness for each layer. In the Fourier modal method, the first and last layers effectively extend to infinity. Therefore, their thickness value is essentially arbitrary, and only affects the locations at which amplitudes in the first and last layers are reported."
   ]
  },
  {
   "cell_type": "code",
   "execution_count": null,
   "metadata": {},
   "outputs": [],
   "source": [
    "thickness_ambient = 0.0\n",
    "thickness_pillar = 0.8\n",
    "thickness_substrate = 0.0"
   ]
  },
  {
   "cell_type": "markdown",
   "metadata": {},
   "source": [
    "## Calculation of diffraction efficiency\n",
    "\n",
    "We can now solve for the eigenmodes of each layer, and construct the scattering matrix that relates eigenmode amplitudes at the start and end of our layer stack."
   ]
  },
  {
   "cell_type": "code",
   "execution_count": null,
   "metadata": {},
   "outputs": [],
   "source": [
    "import functools\n",
    "\n",
    "eigensolve = functools.partial(\n",
    "    fmmax.eigensolve_isotropic_media,\n",
    "    wavelength=wavelength,\n",
    "    in_plane_wavevector=in_plane_wavevector,\n",
    "    primitive_lattice_vectors=primitive_lattice_vectors,\n",
    "    expansion=expansion,\n",
    ")\n",
    "\n",
    "result_ambient = eigensolve(permittivity=permittivity_ambient)\n",
    "result_pillar = eigensolve(permittivity=permittivity_pillar)\n",
    "result_substrate = eigensolve(permittivity=permittivity_substrate)\n",
    "\n",
    "s_matrix = fmmax.stack_s_matrix(\n",
    "    layer_solve_results=[result_ambient, result_pillar, result_substrate],\n",
    "    layer_thicknesses=[thickness_ambient, thickness_pillar, thickness_substrate],\n",
    ")"
   ]
  },
  {
   "cell_type": "markdown",
   "metadata": {},
   "source": [
    "The scattering matrix has four blocks, `(s11, s12, s21, s22)`, which relate the forward-going and backward-going eigenmode amplitudes on the two sides of our stack.\n",
    "```\n",
    "a_substrate = s11 @ a_ambient + s12 @ b_substrate\n",
    "b_ambient = s21 @ a_ambient + s22 @ b_substrate\n",
    "```\n",
    "Here,\n",
    "- `a_ambient` is the forward-going light in the ambient, i.e. incident upon the pillar layer.\n",
    "- `a_substrate` is forward-going light in the substrate, i.e. light that has transmitted from the ambient through the pillar layer and into the substrate. \n",
    "- `b_ambient` is backward-going light in the ambient, reflected from the pillar layer.\n",
    "- `b_substrate` is backward-going light in the substrate incident upon the pillar layer.\n",
    "\n",
    "Each amplitude is a column vector of length `2 * n`, with the factor of 2 due to the two possible polarizations for each plane wave in the expansion. In the amplitude vectors, the first `n` terms correspond to $x$-polarized magnetic fields, and the remaining terms are for $y$-polarized magnetic fields.\n",
    "\n",
    "Next, we need to define the incident amplitudes. Since there is no light incident from the substrate, `b_substrate` is just zeros.  Meanwhile, `a_ambient` is a one-hot vector, with the single nonzero element being the one corresponding to the zeroth order and desired polarization. For $x$- and $y$-polarized magnetic fields, this is at `0` and `n`, respectively. We'll choose the x-polarized field."
   ]
  },
  {
   "cell_type": "code",
   "execution_count": null,
   "metadata": {},
   "outputs": [],
   "source": [
    "b_substrate = jnp.zeros((2 * n, 1), dtype=complex)\n",
    "a_ambient = jnp.zeros((2 * n, 1), dtype=complex).at[0, 0].set(1)"
   ]
  },
  {
   "cell_type": "markdown",
   "metadata": {},
   "source": [
    "Now, normalize the excitation so the incident power is unity."
   ]
  },
  {
   "cell_type": "code",
   "execution_count": null,
   "metadata": {},
   "outputs": [],
   "source": [
    "incident, _ = fmmax.amplitude_poynting_flux(\n",
    "    forward_amplitude=a_ambient,\n",
    "    backward_amplitude=jnp.zeros_like(a_ambient),\n",
    "    layer_solve_result=result_ambient,\n",
    ")\n",
    "a_ambient /= jnp.sqrt(jnp.sum(incident, axis=-2, keepdims=True))"
   ]
  },
  {
   "cell_type": "markdown",
   "metadata": {},
   "source": [
    "Now, we can calculate the transmitted and reflected amplitudes."
   ]
  },
  {
   "cell_type": "code",
   "execution_count": null,
   "metadata": {},
   "outputs": [],
   "source": [
    "a_substrate = s_matrix.s11 @ a_ambient\n",
    "b_ambient = s_matrix.s21 @ a_ambient"
   ]
  },
  {
   "cell_type": "markdown",
   "metadata": {},
   "source": [
    "Now compute and visualize the transmitted and reflected power into each order. Note that reflected flux is negative, since power flows in the $-z$ direction."
   ]
  },
  {
   "cell_type": "code",
   "execution_count": null,
   "metadata": {},
   "outputs": [],
   "source": [
    "incident, reflected = fmmax.amplitude_poynting_flux(\n",
    "    forward_amplitude=a_ambient,\n",
    "    backward_amplitude=b_ambient,\n",
    "    layer_solve_result=result_ambient,\n",
    ")\n",
    "transmitted, _ = fmmax.amplitude_poynting_flux(\n",
    "    forward_amplitude=a_substrate,\n",
    "    backward_amplitude=jnp.zeros_like(a_substrate),\n",
    "    layer_solve_result=result_substrate,\n",
    ")\n",
    "\n",
    "# Sum over the two polarizations.\n",
    "incident = incident[..., :n, :] + incident[..., n:, :]\n",
    "reflected = reflected[..., :n, :] + reflected[..., n:, :]\n",
    "transmitted = transmitted[..., :n, :] + transmitted[..., n:, :]"
   ]
  },
  {
   "cell_type": "code",
   "execution_count": null,
   "metadata": {},
   "outputs": [],
   "source": [
    "import ccmaps\n",
    "\n",
    "plt.figure(figsize=(8, 3))\n",
    "ax = plt.subplot(121)\n",
    "im = ax.scatter(\n",
    "    x=expansion.basis_coefficients[:, 1],\n",
    "    y=expansion.basis_coefficients[:, 0],\n",
    "    c=transmitted,\n",
    "    s=100,\n",
    "    marker=\"s\",\n",
    "    cmap=ccmaps.wbgyr(),\n",
    ")\n",
    "ax.set_title(\"transmitted\")\n",
    "ax.set_xlabel(\"Diffraction order y\")\n",
    "ax.set_ylabel(\"Diffraction order x\")\n",
    "ax.set_aspect(\"equal\")\n",
    "plt.colorbar(im)\n",
    "\n",
    "ax = plt.subplot(122)\n",
    "im = ax.scatter(\n",
    "    x=expansion.basis_coefficients[:, 1],\n",
    "    y=expansion.basis_coefficients[:, 0],\n",
    "    c=-reflected,\n",
    "    s=100,\n",
    "    marker=\"s\",\n",
    "    cmap=ccmaps.wbgyr(),\n",
    ")\n",
    "ax.set_title(\"$-$reflected\")\n",
    "ax.set_xlabel(\"Diffraction order y\")\n",
    "ax.set_ylabel(\"Diffraction order x\")\n",
    "ax.set_aspect(\"equal\")\n",
    "_ = plt.colorbar(im)"
   ]
  },
  {
   "cell_type": "markdown",
   "metadata": {},
   "source": [
    "As we can see, most of power is transmitted into the (-1, 0) order. Finally, let's check to make sure energy is conserved."
   ]
  },
  {
   "cell_type": "code",
   "execution_count": null,
   "metadata": {},
   "outputs": [],
   "source": [
    "print(f\"incident = {jnp.sum(incident, axis=-2)}\")\n",
    "print(f\"transmitted - reflected = {jnp.sum(transmitted, axis=-2) - jnp.sum(reflected, axis=-2)}\")"
   ]
  },
  {
   "cell_type": "code",
   "execution_count": null,
   "metadata": {},
   "outputs": [],
   "source": []
  }
 ],
 "metadata": {
  "kernelspec": {
   "display_name": "invrs-cpu",
   "language": "python",
   "name": "python3"
  },
  "language_info": {
   "codemirror_mode": {
    "name": "ipython",
    "version": 3
   },
   "file_extension": ".py",
   "mimetype": "text/x-python",
   "name": "python",
   "nbconvert_exporter": "python",
   "pygments_lexer": "ipython3",
   "version": "3.10.12"
  }
 },
 "nbformat": 4,
 "nbformat_minor": 2
}
